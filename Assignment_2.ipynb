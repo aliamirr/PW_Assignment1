{
 "cells": [
  {
   "cell_type": "markdown",
   "id": "a1d0e62e",
   "metadata": {},
   "source": [
    "Q: 1 Write a program to accept percentage from the user and display the grade according to the following criteria:\n",
    "        Marks            Grade\n",
    "        >90              A\n",
    "        >80 and <= 90    B\n",
    "        >=60 and <= 80   C\n",
    "        below 60         D"
   ]
  },
  {
   "cell_type": "code",
   "execution_count": 1,
   "id": "fe5dda0d",
   "metadata": {},
   "outputs": [
    {
     "name": "stdout",
     "output_type": "stream",
     "text": [
      "Enter your marks: 99\n",
      "Your grade is A.\n"
     ]
    }
   ],
   "source": [
    "marks = int(input(\"Enter your marks: \"))\n",
    "if marks >90:\n",
    "    print(\"Your grade is A.\")\n",
    "elif marks >80 and marks <=90:\n",
    "    print(\"Your grade is B.\")\n",
    "elif marks >60 and marks <=80:\n",
    "    print(\"Your grade is C.\")\n",
    "else:\n",
    "    print(\"Your grade is D.\") "
   ]
  },
  {
   "cell_type": "markdown",
   "id": "d7c7efb6",
   "metadata": {},
   "source": [
    "Q 2: Write a program to accept the cost price of a bike and display the road tax to be paid according to the following criteria:\n",
    "                Tax              Cost Price(in Rs)\n",
    "                15%              >100000\n",
    "                10%              >50000 and <=100000\n",
    "                5%               <=50000        "
   ]
  },
  {
   "cell_type": "code",
   "execution_count": 2,
   "id": "85b44a53",
   "metadata": {},
   "outputs": [
    {
     "name": "stdout",
     "output_type": "stream",
     "text": [
      "Enter the cost price of the bike: 100000\n",
      "The tax is 10%.\n"
     ]
    }
   ],
   "source": [
    "cost = int(input(\"Enter the cost price of the bike: \"))\n",
    "if cost >100000:\n",
    "    print(\"The tax is 15%.\")\n",
    "elif cost >50000 and cost <=100000:\n",
    "    print(\"The tax is 10%.\")\n",
    "else:\n",
    "    print(\"The tax is 5%.\") "
   ]
  },
  {
   "cell_type": "markdown",
   "id": "c606aa5d",
   "metadata": {},
   "source": [
    "Q 3: Accept any city from user and display monuments of that city?\n",
    "        City          Monument\n",
    "        Delhi         Red Fort\n",
    "        Agra          Taj Mahal\n",
    "        Jaipur        Jal Mahal"
   ]
  },
  {
   "cell_type": "code",
   "execution_count": 3,
   "id": "f2a8dead",
   "metadata": {},
   "outputs": [
    {
     "name": "stdout",
     "output_type": "stream",
     "text": [
      "Enter the city you want monument from:Jaipur\n",
      "The monument to visit is Jal Mahal.\n"
     ]
    }
   ],
   "source": [
    "city = input(\"Enter the city you want monument from:\")\n",
    "if city == \"Delhi\":\n",
    "    print(\"The monument to visit is Red Fort.\")\n",
    "elif city == \"Agra\":\n",
    "    print(\"The monument to visit is Taj Mahal.\")\n",
    "else:\n",
    "    print(\"The monument to visit is Jal Mahal.\")"
   ]
  },
  {
   "cell_type": "markdown",
   "id": "d6c69275",
   "metadata": {},
   "source": [
    "Q 4: Check how many times a given number can be divided by 3 before it is less than or equal to 10?             "
   ]
  },
  {
   "cell_type": "code",
   "execution_count": 6,
   "id": "1aa1c6f7",
   "metadata": {},
   "outputs": [
    {
     "name": "stdout",
     "output_type": "stream",
     "text": [
      "Enter the number: 56\n",
      "Number of times a given number can be divided by 3 before it is less than or equal to 10 =  2\n"
     ]
    }
   ],
   "source": [
    "number = int(input(\"Enter the number: \"))\n",
    "counter = 0\n",
    "while number > 10:\n",
    "    number = number/3\n",
    "    counter +=1\n",
    "print(\"Number of times a given number can be divided by 3 before it is less than or equal to 10 = \",counter)    "
   ]
  },
  {
   "cell_type": "markdown",
   "id": "3ac3c6b2",
   "metadata": {},
   "source": [
    "Q 5: Why and When to Use a While Loop in Python give a detailed description with example?"
   ]
  },
  {
   "cell_type": "code",
   "execution_count": null,
   "id": "a2bab5c6",
   "metadata": {},
   "outputs": [],
   "source": [
    "'''Python While Loop is used to execute a block of statements repeatedly until and unless a given condition is satisfied \n",
    "and the line of code after the loop is executed as soon as the condition becomes false.\n",
    "\n",
    "Python While Loop is used when we are not sure how many times the loop is going to repeat unlike for loop where we exactly \n",
    "know how many times the loop is going to execute.\n",
    "\n",
    "Here is an example of While Loop:'''\n",
    "    \n",
    "count = 0\n",
    "while count < 9:\n",
    "    count = count + 1\n",
    "    print(\"PW skills is very well curated course.\")"
   ]
  },
  {
   "cell_type": "markdown",
   "id": "fb9d1762",
   "metadata": {},
   "source": [
    "Q 7: Reverse a while loop to display numbers from 10 to 1"
   ]
  },
  {
   "cell_type": "code",
   "execution_count": 7,
   "id": "e0f1a753",
   "metadata": {},
   "outputs": [
    {
     "name": "stdout",
     "output_type": "stream",
     "text": [
      "10\n",
      "9\n",
      "8\n",
      "7\n",
      "6\n",
      "5\n",
      "4\n",
      "3\n",
      "2\n",
      "1\n"
     ]
    }
   ],
   "source": [
    "i = 10\n",
    "while i >= 1:\n",
    "    print(i)\n",
    "    i = i-1 "
   ]
  },
  {
   "cell_type": "markdown",
   "id": "13c2c3e3",
   "metadata": {},
   "source": [
    "Q 8: Reverse a while loop to display numbers from 10 to 1"
   ]
  },
  {
   "cell_type": "code",
   "execution_count": 8,
   "id": "34b0220a",
   "metadata": {},
   "outputs": [
    {
     "name": "stdout",
     "output_type": "stream",
     "text": [
      "10\n",
      "9\n",
      "8\n",
      "7\n",
      "6\n",
      "5\n",
      "4\n",
      "3\n",
      "2\n",
      "1\n"
     ]
    }
   ],
   "source": [
    "i = 10\n",
    "while i >= 1:\n",
    "    print(i)\n",
    "    i = i-1"
   ]
  },
  {
   "cell_type": "code",
   "execution_count": null,
   "id": "acd75664",
   "metadata": {},
   "outputs": [],
   "source": []
  }
 ],
 "metadata": {
  "kernelspec": {
   "display_name": "Python 3 (ipykernel)",
   "language": "python",
   "name": "python3"
  },
  "language_info": {
   "codemirror_mode": {
    "name": "ipython",
    "version": 3
   },
   "file_extension": ".py",
   "mimetype": "text/x-python",
   "name": "python",
   "nbconvert_exporter": "python",
   "pygments_lexer": "ipython3",
   "version": "3.10.6"
  }
 },
 "nbformat": 4,
 "nbformat_minor": 5
}
