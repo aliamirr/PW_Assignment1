{
 "cells": [
  {
   "cell_type": "markdown",
   "id": "8f636466",
   "metadata": {},
   "source": [
    "Q1. You are writing code for a company. The requirement of the company is that you create a python function that will check whether the password entered by the user is correct or not. The function should take the password as input and return the string “Valid Password” if the entered password follows the below-given password guidelines else it should return “Invalid Password”.\n",
    "\n",
    "Note: 1. The Password should contain at least two uppercase letters and at least two lowercase letters.\n",
    "\n",
    "The Password should contain at least a number and three special characters.\n",
    "The length of the password should be 10 characters long."
   ]
  },
  {
   "cell_type": "code",
   "execution_count": 10,
   "id": "1bb39726",
   "metadata": {},
   "outputs": [
    {
     "name": "stdout",
     "output_type": "stream",
     "text": [
      "Enter the password: AAii!@#1jj\n"
     ]
    },
    {
     "data": {
      "text/plain": [
       "'Your password is valid'"
      ]
     },
     "execution_count": 10,
     "metadata": {},
     "output_type": "execute_result"
    }
   ],
   "source": [
    "def pass_check(password):\n",
    "    s, d, u, l = 0, 0, 0, 0\n",
    "    u_case = \"ABCDEFGHIJKLMNOPQRSTUVWXYZ\"\n",
    "    l_case = \"abcdefghijklmnopqrstuvwxyz\"\n",
    "    specialchar = \"!@#$%^&*\"\n",
    "    digits = \"0123456789\"\n",
    "    if len(password) >= 10:\n",
    "        for i in password:\n",
    "            if i in digits:\n",
    "                d+=1\n",
    "            elif i in specialchar:\n",
    "                s+=1\n",
    "            elif i in u_case:\n",
    "                u+=1\n",
    "            elif i in l_case:\n",
    "                l+=1\n",
    "            else:\n",
    "                print(\"Your password is invalid\")\n",
    "    if u>=2 and l>=2 and d>=1 and s>=3 and s+d+u+l==len(password):\n",
    "        return \"Your password is valid\"\n",
    "    else:\n",
    "        return \"Your password is invalid\"\n",
    "\n",
    "password = str(input(\"Enter the password: \"))\n",
    "pass_check(password)"
   ]
  },
  {
   "cell_type": "markdown",
   "id": "a707098e",
   "metadata": {},
   "source": [
    "Q2. Solve the below-given questions using at least one of the following:\n",
    "    \n",
    "1. Lambda function\n",
    "2. Filter function\n",
    "3. Map function\n",
    "4. List Comprehension\n",
    "\n",
    "a) Check if the string starts with a particular letter.\n",
    "b) Check if the string is numeric.\n",
    "c) Sort a list of tuples having fruit names and their quantity. [(\"mango\",99),(\"orange\",80), (\"grapes\", 1000)]\n",
    "d) Find the squares of numbers from 1 to 10.\n",
    "e) Find the cube root of numbers from 1 to 10.\n",
    "f) Check if a given number is even.\n",
    "\n",
    "g) Filter odd numbers from the given list.\n",
    "[1,2,3,4,5,6,7,8,9,10]\n",
    "\n",
    "h) Sort a list of integers into positive and negative integers lists.\n",
    "[1,2,3,4,5,6,-1,-2,-3,-4,-5,0]"
   ]
  },
  {
   "cell_type": "code",
   "execution_count": 34,
   "id": "c3e5e89d",
   "metadata": {},
   "outputs": [
    {
     "data": {
      "text/plain": [
       "['True']"
      ]
     },
     "execution_count": 34,
     "metadata": {},
     "output_type": "execute_result"
    }
   ],
   "source": [
    "# a) Check if the string starts with a particular letter\n",
    "\n",
    "stg = \"pwskils\"\n",
    "[\"True\" if stg[0] == \"p\" else \"No\"]"
   ]
  },
  {
   "cell_type": "code",
   "execution_count": 45,
   "id": "7dc96d8e",
   "metadata": {},
   "outputs": [
    {
     "data": {
      "text/plain": [
       "[False]"
      ]
     },
     "execution_count": 45,
     "metadata": {},
     "output_type": "execute_result"
    }
   ],
   "source": [
    "# b) Check if the string is numeric.\n",
    "stg1 = \"abc1die\"\n",
    "[stg1.isnumeric()]"
   ]
  },
  {
   "cell_type": "code",
   "execution_count": 48,
   "id": "02122373",
   "metadata": {},
   "outputs": [
    {
     "data": {
      "text/plain": [
       "[('orange', 80), ('mango', 99), ('grapes', 1000)]"
      ]
     },
     "execution_count": 48,
     "metadata": {},
     "output_type": "execute_result"
    }
   ],
   "source": [
    "# c) Sort a list of tuples having fruit names and their quantity. [(\"mango\",99),(\"orange\",80), (\"grapes\", 1000)]\n",
    "l1 = [(\"mango\",99),(\"orange\",80), (\"grapes\", 1000)]\n",
    "l1.sort(key = lambda x: x[1])\n",
    "l1"
   ]
  },
  {
   "cell_type": "code",
   "execution_count": 50,
   "id": "ef36393b",
   "metadata": {},
   "outputs": [
    {
     "data": {
      "text/plain": [
       "[1, 4, 9, 16, 25, 36, 49, 64, 81, 100]"
      ]
     },
     "execution_count": 50,
     "metadata": {},
     "output_type": "execute_result"
    }
   ],
   "source": [
    "# d) Find the squares of numbers from 1 to 10.\n",
    "\n",
    "[x**2 for x in range(1, 11)]"
   ]
  },
  {
   "cell_type": "code",
   "execution_count": 53,
   "id": "8ad7979c",
   "metadata": {},
   "outputs": [
    {
     "data": {
      "text/plain": [
       "[1.0,\n",
       " 1.2599210498948732,\n",
       " 1.4422495703074083,\n",
       " 1.5874010519681994,\n",
       " 1.7099759466766968,\n",
       " 1.8171205928321397,\n",
       " 1.912931182772389,\n",
       " 2.0,\n",
       " 2.080083823051904,\n",
       " 2.154434690031884]"
      ]
     },
     "execution_count": 53,
     "metadata": {},
     "output_type": "execute_result"
    }
   ],
   "source": [
    "# e) Find the cube root of numbers from 1 to 10.\n",
    "[x**(1/3) for x in range(1, 11)]"
   ]
  },
  {
   "cell_type": "code",
   "execution_count": 54,
   "id": "abad1245",
   "metadata": {},
   "outputs": [
    {
     "data": {
      "text/plain": [
       "[1, 3, 5, 7, 9]"
      ]
     },
     "execution_count": 54,
     "metadata": {},
     "output_type": "execute_result"
    }
   ],
   "source": [
    "# g) Filter odd numbers from the given list.\n",
    "l1 = [1,2,3,4,5,6,7,8,9,10]\n",
    "list(filter(lambda x:x%2!=0, l1))"
   ]
  },
  {
   "cell_type": "code",
   "execution_count": 68,
   "id": "dc94bd07",
   "metadata": {},
   "outputs": [
    {
     "data": {
      "text/plain": [
       "([1, 2, 3, 4, 5, 6], [-1, -2, -3, -4, -5, 0])"
      ]
     },
     "execution_count": 68,
     "metadata": {},
     "output_type": "execute_result"
    }
   ],
   "source": [
    "# h) Sort a list of integers into positive and negative integers lists.\n",
    "l2 = [1,2,3,4,5,6,-1,-2,-3,-4,-5,0]\n",
    "pos, neg = [i for i in l2 if i > 0], [i for i in l2 if i <= 0]\n",
    "pos, neg"
   ]
  },
  {
   "cell_type": "code",
   "execution_count": null,
   "id": "a335a877",
   "metadata": {},
   "outputs": [],
   "source": []
  }
 ],
 "metadata": {
  "kernelspec": {
   "display_name": "Python 3 (ipykernel)",
   "language": "python",
   "name": "python3"
  },
  "language_info": {
   "codemirror_mode": {
    "name": "ipython",
    "version": 3
   },
   "file_extension": ".py",
   "mimetype": "text/x-python",
   "name": "python",
   "nbconvert_exporter": "python",
   "pygments_lexer": "ipython3",
   "version": "3.10.6"
  }
 },
 "nbformat": 4,
 "nbformat_minor": 5
}
