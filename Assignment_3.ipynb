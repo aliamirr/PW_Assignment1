{
 "cells": [
  {
   "cell_type": "markdown",
   "id": "1f6a3d9d",
   "metadata": {},
   "source": [
    "Q1. Explain with an example each when to use a for loop and a while loop."
   ]
  },
  {
   "cell_type": "code",
   "execution_count": 1,
   "id": "d2a32f9a",
   "metadata": {},
   "outputs": [
    {
     "name": "stdout",
     "output_type": "stream",
     "text": [
      "1\n",
      "2\n",
      "3\n",
      "4\n",
      "5\n"
     ]
    }
   ],
   "source": [
    "'''Ans: The for loop is used when the number of iterations is already known.'''\n",
    "list = [1, 2, 3, 4, 5] \n",
    "for i in list: \n",
    "    print(i)    #Here we know that the number of iterations are going to be equal to the lenght of the list that is 5."
   ]
  },
  {
   "cell_type": "code",
   "execution_count": 2,
   "id": "f83298b0",
   "metadata": {},
   "outputs": [
    {
     "name": "stdout",
     "output_type": "stream",
     "text": [
      "The count is: 0\n",
      "The count is: 1\n",
      "The count is: 2\n",
      "The count is: 3\n",
      "The count is: 4\n",
      "The count is: 5\n",
      "The count is: 6\n",
      "The count is: 7\n",
      "The count is: 8\n",
      "Hie PW Skills\n"
     ]
    }
   ],
   "source": [
    "'''A \"while\" loop is used when the number of iterations is unknown. \n",
    "The statement repeats itself till the boolean value becomes false.'''\n",
    "\n",
    "count = 0\n",
    "while (count < 9):\n",
    "    print('The count is:', count)\n",
    "    count = count + 1\n",
    "\n",
    "print(\"Hie PW Skills\")"
   ]
  },
  {
   "cell_type": "markdown",
   "id": "be25a266",
   "metadata": {},
   "source": [
    "Q2. Write a python program to print the sum and product of the first 10 natural numbers using for\n",
    "and while loop."
   ]
  },
  {
   "cell_type": "code",
   "execution_count": 3,
   "id": "2ae5ff56",
   "metadata": {},
   "outputs": [
    {
     "name": "stdout",
     "output_type": "stream",
     "text": [
      "Enter the natural number: 4\n",
      "The sum is 10 and the product is 24\n"
     ]
    }
   ],
   "source": [
    "#Using while loop\n",
    "num = int(input(\"Enter the natural number: \"))\n",
    "\n",
    "sum = 0\n",
    "product = 1\n",
    "while(num >= 1):\n",
    "    sum += num\n",
    "    product *= num\n",
    "    num -= 1\n",
    "print(\"The sum is\", sum ,\"and the product is\", product)"
   ]
  },
  {
   "cell_type": "code",
   "execution_count": 4,
   "id": "90f4b748",
   "metadata": {},
   "outputs": [
    {
     "name": "stdout",
     "output_type": "stream",
     "text": [
      "Enter the natural number: 4\n",
      "The sum is 10 and the product is 24\n"
     ]
    }
   ],
   "source": [
    "#Using for loop.\n",
    "\n",
    "num = int(input(\"Enter the natural number: \"))\n",
    "\n",
    "sum = 0\n",
    "product = 1\n",
    "for i in range(1, num+1):\n",
    "    sum += num\n",
    "    product *= num\n",
    "    num -= 1\n",
    "print(\"The sum is\", sum ,\"and the product is\", product)"
   ]
  },
  {
   "cell_type": "markdown",
   "id": "fd88031a",
   "metadata": {},
   "source": [
    "Q 3: Q3. Create a python program to compute the electricity bill for a household.\n",
    "\n",
    "The per-unit charges in rupees are as follows: For the first 100 units, the user will be charged Rs. 4.5 per\n",
    "unit, for the next 100 units, the user will be charged Rs. 6 per unit, and for the next 100 units, the user will\n",
    "be charged Rs. 10 per unit, After 300 units and above the user will be charged Rs. 20 per unit.\n",
    "\n",
    "You are required to take the units of electricity consumed in a month from the user as input.\n",
    "\n",
    "Your program must pass this test case: when the unit of electricity consumed by the user in a month is\n",
    "310, the total electricity bill should be 2250."
   ]
  },
  {
   "cell_type": "code",
   "execution_count": 5,
   "id": "52b94515",
   "metadata": {},
   "outputs": [
    {
     "name": "stdout",
     "output_type": "stream",
     "text": [
      "Enter the number of units consumed: 310\n",
      "The charges for the consumption of electricity is: Rs. 2250\n"
     ]
    }
   ],
   "source": [
    "units = int(input(\"Enter the number of units consumed: \"))\n",
    "if (units <= 100):\n",
    "    print(\"The charges for the consumption of electricity is: Rs.\",int(units * 4.5))\n",
    "\n",
    "elif (units <= 200):\n",
    "    print(\"The charges for the consumption of electricity is: Rs.\",int((100 * 4.5) + (units - 100) * 6))\n",
    "\n",
    "elif (units <= 300):\n",
    "    print(\"The charges for the consumption of electricity is: Rs.\",int((100 * 4.5) + (100 * 6) + (units - 200) * 10))\n",
    "\n",
    "elif (units > 300):\n",
    "    print(\"The charges for the consumption of electricity is: Rs.\",int((100 * 4.5) + (100 * 6) + (100 * 10) + (units - 300) * 20))"
   ]
  },
  {
   "cell_type": "markdown",
   "id": "ed1c0e9b",
   "metadata": {},
   "source": [
    "Q4. Create a list of numbers from 1 to 100. Use for loop and while loop to calculate the cube of each\n",
    "number and if the cube of that number is divisible by 4 or 5 then append that number in a list and print\n",
    "that list."
   ]
  },
  {
   "cell_type": "code",
   "execution_count": 11,
   "id": "460065b9",
   "metadata": {},
   "outputs": [
    {
     "name": "stdout",
     "output_type": "stream",
     "text": [
      "[2, 4, 5, 6, 8, 10, 12, 14, 15, 16, 18, 20, 22, 24, 25, 26, 28, 30, 32, 34, 35, 36, 38, 40, 42, 44, 45, 46, 48, 50, 52, 54, 55, 56, 58, 60, 62, 64, 65, 66, 68, 70, 72, 74, 75, 76, 78, 80, 82, 84, 85, 86, 88, 90, 92, 94, 95, 96, 98, 100]\n"
     ]
    }
   ],
   "source": [
    "list = [1, 2, 3, 4, 5, 6, 7, 8, 9, 10, 11, 12, 13, 14, 15, 16, 17, 18, 19, 20, 21, 22, 23, 24, 25,26, 27, 28, 29, 30, 31, 32, 33, 34, 35, 36, 37, 38, 39, 40, 41, 42, 43, 44, 45, 46, 47, 48, 49, 50, 51, 52, 53, 54, 55, 56, 57, 58, 59, 60, 61, 62, 63, 64, 65, 66, 67, 68, 69, 70, 71, 72, 73, 74, 75, 76, 77, 78, 79, 80, 81, 82, 83, 84, 85, 86, 87, 88, 89, 90, 91, 92, 93, 94, 95, 96, 97, 98, 99, 100]\n",
    "new_list = []\n",
    "\n",
    "for i in range(1, len(list)+1):\n",
    "    if i**3 % 4 == 0 or i**3 % 5 == 0:\n",
    "        new_list.append(i)\n",
    "print(new_list)"
   ]
  },
  {
   "cell_type": "code",
   "execution_count": 12,
   "id": "8e2695a2",
   "metadata": {},
   "outputs": [
    {
     "name": "stdout",
     "output_type": "stream",
     "text": [
      "[2, 4, 5, 6, 8, 10, 12, 14, 15, 16, 18, 20, 22, 24, 25, 26, 28, 30, 32, 34, 35, 36, 38, 40, 42, 44, 45, 46, 48, 50, 52, 54, 55, 56, 58, 60, 62, 64, 65, 66, 68, 70, 72, 74, 75, 76, 78, 80, 82, 84, 85, 86, 88, 90, 92, 94, 95, 96, 98, 100]\n"
     ]
    }
   ],
   "source": [
    "list = [1, 2, 3, 4, 5, 6, 7, 8, 9, 10, 11, 12, 13, 14, 15, 16, 17, 18, 19, 20, 21, 22, 23, 24, 25,26, 27, 28, 29, 30, 31, 32, 33, 34, 35, 36, 37, 38, 39, 40, 41, 42, 43, 44, 45, 46, 47, 48, 49, 50, 51, 52, 53, 54, 55, 56, 57, 58, 59, 60, 61, 62, 63, 64, 65, 66, 67, 68, 69, 70, 71, 72, 73, 74, 75, 76, 77, 78, 79, 80, 81, 82, 83, 84, 85, 86, 87, 88, 89, 90, 91, 92, 93, 94, 95, 96, 97, 98, 99, 100]\n",
    "new_list = []\n",
    "i = 1\n",
    "while i <= len(list):\n",
    "    if i**3 % 4 == 0 or i**3 % 5 == 0:\n",
    "        new_list.append(i)\n",
    "    i+=1\n",
    "print(new_list)"
   ]
  },
  {
   "cell_type": "code",
   "execution_count": 8,
   "id": "fc4caa5c",
   "metadata": {},
   "outputs": [],
   "source": []
  },
  {
   "cell_type": "markdown",
   "id": "7de910fb",
   "metadata": {},
   "source": [
    "Q5. Write a program to filter count vowels in the below-given string.\n",
    "string = \"I want to become a data scientist\""
   ]
  },
  {
   "cell_type": "code",
   "execution_count": 15,
   "id": "f5b5fda5",
   "metadata": {},
   "outputs": [
    {
     "name": "stdout",
     "output_type": "stream",
     "text": [
      "The number of vowels in the given string are: 12\n"
     ]
    }
   ],
   "source": [
    "string = \"I want to become a data scientist\"\n",
    "string = string.lower()\n",
    "count = 0\n",
    "for i in range(0, len(string)):\n",
    "    if string[i] in ('a','e','i','o','u'):\n",
    "        count += 1\n",
    "print(\"The number of vowels in the given string are:\", count)"
   ]
  },
  {
   "cell_type": "code",
   "execution_count": null,
   "id": "54d0de75",
   "metadata": {},
   "outputs": [],
   "source": []
  }
 ],
 "metadata": {
  "kernelspec": {
   "display_name": "Python 3 (ipykernel)",
   "language": "python",
   "name": "python3"
  },
  "language_info": {
   "codemirror_mode": {
    "name": "ipython",
    "version": 3
   },
   "file_extension": ".py",
   "mimetype": "text/x-python",
   "name": "python",
   "nbconvert_exporter": "python",
   "pygments_lexer": "ipython3",
   "version": "3.10.6"
  }
 },
 "nbformat": 4,
 "nbformat_minor": 5
}
