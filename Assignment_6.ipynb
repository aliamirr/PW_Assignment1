{
 "cells": [
  {
   "cell_type": "markdown",
   "id": "4476e3fa",
   "metadata": {},
   "source": [
    "Q1. Explain Class and Object with respect to Object-Oriented Programming. Give a suitable example."
   ]
  },
  {
   "cell_type": "markdown",
   "id": "e8ba5719",
   "metadata": {},
   "source": [
    "In object-oriented Programming: \n",
    "    \n",
    "A class is a blueprint that defines the variables and the methods common to all objects of a certain kind. \n",
    "It helps us to bind data and methods together, making the code reusable, unlike procedural language.\n",
    "\n",
    "For example, a mobile phone has attributes like a brand name, RAM, and functions like texting and calling. \n",
    "Thus, the mobile phone is a class of various phones (the objects). \n",
    "\n",
    "What is an Object?\n",
    "\n",
    "An object is a single instance of a class, which contains data and methods working on that data. \n",
    "So an object consists of three things: \n",
    "\n",
    "Name: This is a variable name that represents the object.\n",
    "Member data: The data that describes the object.\n",
    "Member methods: Behavior that describes the object.\n",
    "    \n",
    "For example, Samsung Galaxy is an object with the brand name Samsung, 2GB RAM as properties, and calling and \n",
    "texting as behaviors."
   ]
  },
  {
   "cell_type": "markdown",
   "id": "edfd6826",
   "metadata": {},
   "source": [
    "Q2. Name the four pillars of OOPs."
   ]
  },
  {
   "cell_type": "markdown",
   "id": "829b8667",
   "metadata": {},
   "source": [
    "The Four Pillars of Object-Oriented Programming:\n",
    "    \n",
    "1) Abstraction.\n",
    "2) Encapsulation.\n",
    "3) Inheritance.\n",
    "4) Polymorphism."
   ]
  },
  {
   "cell_type": "markdown",
   "id": "a2315ff6",
   "metadata": {},
   "source": [
    "Q3. Explain why the __init__() function is used. Give a suitable example."
   ]
  },
  {
   "cell_type": "markdown",
   "id": "cdc54e7c",
   "metadata": {},
   "source": [
    "The Default __init__ Constructor in C++ and Java. Constructors are used to initializing the object’s state. \n",
    "The task of constructors is to initialize(assign values) to the data members of the class when an object of \n",
    "the class is created. Like methods, a constructor also contains a collection of statements(i.e. instructions) \n",
    "that are executed at the time of Object creation. \n",
    "\n",
    "It is run as soon as an object of a class is instantiated. \n",
    "The method is useful to do any initialization you want to do with your object."
   ]
  },
  {
   "cell_type": "code",
   "execution_count": 5,
   "id": "c8954427",
   "metadata": {},
   "outputs": [
    {
     "name": "stdout",
     "output_type": "stream",
     "text": [
      "Hello, my car is Audi\n"
     ]
    }
   ],
   "source": [
    "class Car:\n",
    " \n",
    "    # __init__ method or constructor\n",
    "    def __init__(self, name):\n",
    "        self.name = name\n",
    " \n",
    "    \n",
    "    def my_car(self):\n",
    "        print('Hello, my car is', self.name)\n",
    " \n",
    " \n",
    "c = Car('Audi')\n",
    "c.my_car()"
   ]
  },
  {
   "cell_type": "markdown",
   "id": "3d0f005a",
   "metadata": {},
   "source": [
    "Q4. Why self is used in OOPs?"
   ]
  },
  {
   "cell_type": "code",
   "execution_count": null,
   "id": "57d87a59",
   "metadata": {},
   "outputs": [],
   "source": [
    "The self is used to represent the instance of the class. With this keyword, you can access the attributes and \n",
    "methods of the class in python. It binds the attributes with the given arguments.\n",
    "\n",
    "self is a parameter in function and the user can use a different parameter name in place of it. Although it is \n",
    "advisable to use self because it increases the readability of code.\n"
   ]
  },
  {
   "cell_type": "markdown",
   "id": "9051ebec",
   "metadata": {},
   "source": [
    "Q5. What is inheritance? Give an example for each type of inheritance."
   ]
  },
  {
   "cell_type": "code",
   "execution_count": null,
   "id": "efece02e",
   "metadata": {},
   "outputs": [],
   "source": [
    "'''It is a mechanism that allows you to create a hierarchy of classes that share a set of properties and methods \n",
    "by deriving a class from another class. Inheritance is the capability of one class to derive or inherit the \n",
    "properties from another class. \n",
    "\n",
    "Different types of Inheritance:\n",
    "1) Single inheritance: When a child class inherits from only one parent class, it is called single inheritance. \n",
    "   We saw an example above.\n",
    "\n",
    "2) Multiple inheritances: When a child class inherits from multiple parent classes, it is called multiple \n",
    "    inheritances.''' \n",
    " \n",
    "# Single inheritance\n",
    "class School_Members:\n",
    "    def __init__(self, name, age):\n",
    "        self.name = name\n",
    "        self.age = age\n",
    "        print(f\"Initialized School Member: {self.name}\")\n",
    "    \n",
    "    def tell(self):\n",
    "        print(f\"Name: {self.name}, Age: {self.age}\")\n",
    "        \n",
    "class Teachers(School_Members):\n",
    "    \n",
    "    def __init__(self, name, age, salary):\n",
    "        School_Members.__init__(self, name, age)\n",
    "        self.salary = salary\n",
    "        print(f\"Initialized Teacher: {self.name}\")\n",
    "        \n",
    "    def tell(self):\n",
    "        School_Members.tell(self)\n",
    "        print(f\"Salary: {self.salary}\")\n",
    "        \n",
    "        \n",
    "        \n",
    "t = Teachers(\"Amir\", 23, 1000000)\n",
    "\n",
    "# Multiple inheritances\n",
    "\n",
    "class Human:\n",
    "    def __init__(self, age, name):\n",
    "        self.name = name\n",
    "        self.age = age\n",
    "        \n",
    "class Scientist:\n",
    "    def __init__(self, research):\n",
    "        self.research = research\n",
    "        \n",
    "class Student(Human, Scientist):\n",
    "    def __init__(self, age, name, research):\n",
    "        Human.__init__(self, age, name)\n",
    "        Scientist.__init__(self, research)\n",
    "\n",
    "aamir = Student(25, \"Aamir\", \"Meta Research\")\n",
    "print(aamir.age)\n",
    "print(aamir.name)\n",
    "print(aamir.research)"
   ]
  }
 ],
 "metadata": {
  "kernelspec": {
   "display_name": "Python 3 (ipykernel)",
   "language": "python",
   "name": "python3"
  },
  "language_info": {
   "codemirror_mode": {
    "name": "ipython",
    "version": 3
   },
   "file_extension": ".py",
   "mimetype": "text/x-python",
   "name": "python",
   "nbconvert_exporter": "python",
   "pygments_lexer": "ipython3",
   "version": "3.10.6"
  }
 },
 "nbformat": 4,
 "nbformat_minor": 5
}
