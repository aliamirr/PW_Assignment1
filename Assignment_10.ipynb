{
 "cells": [
  {
   "cell_type": "markdown",
   "id": "45a5b6d2",
   "metadata": {},
   "source": [
    "Q1, Create a vehicle class with an init method having instance variables as name_of_vehicle, max_speed\n",
    "and average_of_vehicle."
   ]
  },
  {
   "cell_type": "code",
   "execution_count": null,
   "id": "0a6c8ac5",
   "metadata": {},
   "outputs": [],
   "source": [
    "class Vehicle:\n",
    "    def __init__(self, name_of_vehicle, max_speed, average_speed):\n",
    "        self.name_of_vehicle = name_of_vehicle\n",
    "        self.max_speed = max_speed\n",
    "        self.average_of_vehicle = average_speed\n"
   ]
  },
  {
   "cell_type": "code",
   "execution_count": null,
   "id": "147ac2b9",
   "metadata": {},
   "outputs": [],
   "source": []
  },
  {
   "cell_type": "markdown",
   "id": "e3bb69e1",
   "metadata": {},
   "source": [
    "Q2. Create a child class car from the vehicle class created in Que 1, which will inherit the vehicle class.\n",
    "Create a method named seating_capacity which takes capacity as an argument and returns the name of\n",
    "the vehicle and its seating capacity."
   ]
  },
  {
   "cell_type": "code",
   "execution_count": 3,
   "id": "9d84082e",
   "metadata": {},
   "outputs": [
    {
     "name": "stdout",
     "output_type": "stream",
     "text": [
      "XUV 500 has a seating capacity of 5 passengers.\n"
     ]
    }
   ],
   "source": [
    "class Vehicle:\n",
    "    def __init__(self, name_of_vehicle, max_speed, average_speed):\n",
    "        self.name_of_vehicle = name_of_vehicle\n",
    "        self.max_speed = max_speed\n",
    "        self.average_of_vehicle = average_speed\n",
    "        \n",
    "class Car(Vehicle):\n",
    "    def seating_capacity(self, capacity):\n",
    "        return f\"{self.name_of_vehicle} has a seating capacity of {capacity} passengers.\"\n",
    "    \n",
    "my_car = Car(\"XUV 500\", 220, 80)\n",
    "print(my_car.seating_capacity(5))"
   ]
  },
  {
   "cell_type": "code",
   "execution_count": null,
   "id": "6b4e5908",
   "metadata": {},
   "outputs": [],
   "source": []
  },
  {
   "cell_type": "markdown",
   "id": "a97f118c",
   "metadata": {},
   "source": [
    "Q3. What is multiple inheritance? Write a python code to demonstrate multiple inheritance."
   ]
  },
  {
   "cell_type": "code",
   "execution_count": 7,
   "id": "26bead10",
   "metadata": {},
   "outputs": [
    {
     "name": "stdout",
     "output_type": "stream",
     "text": [
      "Mammal is feeding baby with milk.\n",
      "Bird is flying.\n",
      "Animal is speaking.\n",
      "Bird is flying.\n",
      "Mammal is feeding baby with milk.\n",
      "Animal is speaking.\n"
     ]
    }
   ],
   "source": [
    "'''Multiple inheritance is a feature of object-oriented programming that allows a class to inherit from more \n",
    "than one parent class. In multiple inheritance, a subclass inherits attributes and methods from multiple parent \n",
    "classes.\n",
    "\n",
    "Here's an example of how to use multiple inheritance in Python:'''\n",
    "\n",
    "class Animal:\n",
    "    def speak(self):\n",
    "        print(\"Animal is speaking.\")\n",
    "\n",
    "class Mammal(Animal):\n",
    "    def feed_baby_with_milk(self):\n",
    "        print(\"Mammal is feeding baby with milk.\")\n",
    "\n",
    "class Bird(Animal):\n",
    "    def fly(self):\n",
    "        print(\"Bird is flying.\")\n",
    "\n",
    "class Bat(Mammal, Bird):\n",
    "    pass\n",
    "\n",
    "class Parrot(Bird, Mammal):\n",
    "    pass\n",
    "\n",
    "bat = Bat()\n",
    "parrot = Parrot()\n",
    "\n",
    "bat.feed_baby_with_milk()   \n",
    "bat.fly()                   \n",
    "bat.speak()                 \n",
    "\n",
    "parrot.fly()                \n",
    "parrot.feed_baby_with_milk()\n",
    "parrot.speak()              \n"
   ]
  },
  {
   "cell_type": "code",
   "execution_count": null,
   "id": "a6ab4996",
   "metadata": {},
   "outputs": [],
   "source": []
  },
  {
   "cell_type": "markdown",
   "id": "2bafceff",
   "metadata": {},
   "source": [
    "Q4. What are getter and setter in python? Create a class and create a getter and a setter method in this\n",
    "class."
   ]
  },
  {
   "cell_type": "code",
   "execution_count": 8,
   "id": "00b0bff9",
   "metadata": {},
   "outputs": [
    {
     "name": "stdout",
     "output_type": "stream",
     "text": [
      "Alice\n",
      "Bob\n"
     ]
    }
   ],
   "source": [
    "'''In Python, getters and setters are methods used to access and modify the values of class attributes. \n",
    "They are typically used to enforce data encapsulation and to add an extra layer of validation when accessing \n",
    "or modifying class attributes.\n",
    "\n",
    "Here's an example of how to create a Person class with a name attribute, and create getter and setter methods to \n",
    "access and modify the value of the name attribute.'''\n",
    "\n",
    "\n",
    "class Person:\n",
    "    def __init__(self, name):\n",
    "        self._name = name\n",
    "\n",
    "    def get_name(self):\n",
    "        return self._name\n",
    "\n",
    "    def set_name(self, name):\n",
    "        self._name = name\n",
    "        \n",
    "        \n",
    "'''The get_name method returns the value of the _name attribute and set_name method that takes a name parameter \n",
    "and sets the value of the _name attribute to the value of name.\n",
    "\n",
    "We have used a single underscore before the name of the _name attribute to indicate that it is intended to be \n",
    "a private attribute, which should not be accessed or modified directly from outside the class. \n",
    "The getter and setter methods are used to access and modify the _name attribute instead.'''\n",
    "\n",
    "\n",
    "person = Person(\"Alice\")\n",
    "print(person.get_name())\n",
    "\n",
    "person.set_name(\"Bob\")\n",
    "print(person.get_name())\n",
    "\n"
   ]
  },
  {
   "cell_type": "code",
   "execution_count": null,
   "id": "ddd535d9",
   "metadata": {},
   "outputs": [],
   "source": []
  },
  {
   "cell_type": "markdown",
   "id": "f8ffebad",
   "metadata": {},
   "source": [
    "Q5.What is method overriding in python? Write a python code to demonstrate method overriding."
   ]
  },
  {
   "cell_type": "code",
   "execution_count": 5,
   "id": "aaf6812f",
   "metadata": {},
   "outputs": [
    {
     "name": "stdout",
     "output_type": "stream",
     "text": [
      "The animal makes a sound\n",
      "Meow\n",
      "Woof\n"
     ]
    }
   ],
   "source": [
    "'''Method overriding is a concept in object-oriented programming where a subclass provides its own implementation of \n",
    "a method that is already defined in its superclass. When the subclass provides a new implementation for a method \n",
    "that is already defined in its superclass, the method in the subclass is said to override the method in the \n",
    "superclass.\n",
    "\n",
    "In Python, method overriding is achieved by defining a method in the subclass with the same name as the method \n",
    "in the superclass. When the method is called on an object of the subclass, the implementation of the method in \n",
    "the subclass is executed.'''\n",
    "\n",
    "class Animal:\n",
    "    def make_sound(self):\n",
    "        print(\"The animal makes a sound\")\n",
    "\n",
    "class Cat(Animal):\n",
    "    def make_sound(self):\n",
    "        print(\"Meow\")\n",
    "\n",
    "class Dog(Animal):\n",
    "    def make_sound(self):\n",
    "        print(\"Woof\")\n",
    "\n",
    "animal = Animal()\n",
    "animal.make_sound()\n",
    "\n",
    "cat = Cat()\n",
    "cat.make_sound()\n",
    "\n",
    "dog = Dog()\n",
    "dog.make_sound()\n"
   ]
  },
  {
   "cell_type": "code",
   "execution_count": null,
   "id": "6ca7e1d0",
   "metadata": {},
   "outputs": [],
   "source": []
  }
 ],
 "metadata": {
  "kernelspec": {
   "display_name": "Python 3 (ipykernel)",
   "language": "python",
   "name": "python3"
  },
  "language_info": {
   "codemirror_mode": {
    "name": "ipython",
    "version": 3
   },
   "file_extension": ".py",
   "mimetype": "text/x-python",
   "name": "python",
   "nbconvert_exporter": "python",
   "pygments_lexer": "ipython3",
   "version": "3.10.6"
  }
 },
 "nbformat": 4,
 "nbformat_minor": 5
}
