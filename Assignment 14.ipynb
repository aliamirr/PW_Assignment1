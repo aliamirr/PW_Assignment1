{
 "cells": [
  {
   "cell_type": "markdown",
   "id": "524ba23f",
   "metadata": {},
   "source": [
    "Q1. Create a Pandas Series that contains the following data: 4, 8, 15, 16, 23, and 42. Then, print the series."
   ]
  },
  {
   "cell_type": "code",
   "execution_count": 5,
   "id": "ccc0b263",
   "metadata": {},
   "outputs": [],
   "source": [
    "import pandas as pd\n",
    "\n",
    "data = [4,8,15,16,23,42]\n",
    "\n",
    "series = pd.Series(data)"
   ]
  },
  {
   "cell_type": "code",
   "execution_count": 6,
   "id": "da85a091",
   "metadata": {},
   "outputs": [
    {
     "data": {
      "text/plain": [
       "0     4\n",
       "1     8\n",
       "2    15\n",
       "3    16\n",
       "4    23\n",
       "5    42\n",
       "dtype: int64"
      ]
     },
     "execution_count": 6,
     "metadata": {},
     "output_type": "execute_result"
    }
   ],
   "source": [
    "series"
   ]
  },
  {
   "cell_type": "markdown",
   "id": "a65d767f",
   "metadata": {},
   "source": [
    "Q2. Create a variable of list type containing 10 elements in it, and apply pandas.Series function on the\n",
    "variable print it."
   ]
  },
  {
   "cell_type": "code",
   "execution_count": 7,
   "id": "38ae9890",
   "metadata": {},
   "outputs": [],
   "source": [
    "elements = [1, 2, 3, 4, 5, 6, 7, 8, 9, 10]\n",
    "\n",
    "series = pd.Series(elements)"
   ]
  },
  {
   "cell_type": "code",
   "execution_count": 8,
   "id": "b51e183b",
   "metadata": {},
   "outputs": [
    {
     "data": {
      "text/plain": [
       "0     1\n",
       "1     2\n",
       "2     3\n",
       "3     4\n",
       "4     5\n",
       "5     6\n",
       "6     7\n",
       "7     8\n",
       "8     9\n",
       "9    10\n",
       "dtype: int64"
      ]
     },
     "execution_count": 8,
     "metadata": {},
     "output_type": "execute_result"
    }
   ],
   "source": [
    "series"
   ]
  },
  {
   "cell_type": "markdown",
   "id": "146c2d36",
   "metadata": {},
   "source": [
    "Q3. Create a Pandas DataFrame that contains the following data:\n",
    "Then, print the DataFrame."
   ]
  },
  {
   "cell_type": "code",
   "execution_count": 9,
   "id": "fef2742d",
   "metadata": {},
   "outputs": [],
   "source": [
    "data = {'Name': ['Alice', 'Bob', 'Claire'], 'Age':[25,30,27], 'Gender': ['Female', 'Male', 'Female']}\n",
    "\n",
    "df = pd.DataFrame(data)"
   ]
  },
  {
   "cell_type": "code",
   "execution_count": 10,
   "id": "55af7a53",
   "metadata": {},
   "outputs": [
    {
     "data": {
      "text/html": [
       "<div>\n",
       "<style scoped>\n",
       "    .dataframe tbody tr th:only-of-type {\n",
       "        vertical-align: middle;\n",
       "    }\n",
       "\n",
       "    .dataframe tbody tr th {\n",
       "        vertical-align: top;\n",
       "    }\n",
       "\n",
       "    .dataframe thead th {\n",
       "        text-align: right;\n",
       "    }\n",
       "</style>\n",
       "<table border=\"1\" class=\"dataframe\">\n",
       "  <thead>\n",
       "    <tr style=\"text-align: right;\">\n",
       "      <th></th>\n",
       "      <th>Name</th>\n",
       "      <th>Age</th>\n",
       "      <th>Gender</th>\n",
       "    </tr>\n",
       "  </thead>\n",
       "  <tbody>\n",
       "    <tr>\n",
       "      <th>0</th>\n",
       "      <td>Alice</td>\n",
       "      <td>25</td>\n",
       "      <td>Female</td>\n",
       "    </tr>\n",
       "    <tr>\n",
       "      <th>1</th>\n",
       "      <td>Bob</td>\n",
       "      <td>30</td>\n",
       "      <td>Male</td>\n",
       "    </tr>\n",
       "    <tr>\n",
       "      <th>2</th>\n",
       "      <td>Claire</td>\n",
       "      <td>27</td>\n",
       "      <td>Female</td>\n",
       "    </tr>\n",
       "  </tbody>\n",
       "</table>\n",
       "</div>"
      ],
      "text/plain": [
       "     Name  Age  Gender\n",
       "0   Alice   25  Female\n",
       "1     Bob   30    Male\n",
       "2  Claire   27  Female"
      ]
     },
     "execution_count": 10,
     "metadata": {},
     "output_type": "execute_result"
    }
   ],
   "source": [
    "df"
   ]
  },
  {
   "cell_type": "markdown",
   "id": "dbab9b03",
   "metadata": {},
   "source": [
    "Q4. What is ‘DataFrame’ in pandas and how is it different from pandas.series? Explain with an example."
   ]
  },
  {
   "cell_type": "code",
   "execution_count": 12,
   "id": "8b78673f",
   "metadata": {},
   "outputs": [
    {
     "data": {
      "text/plain": [
       "0    10\n",
       "1    20\n",
       "2    30\n",
       "3    40\n",
       "4    50\n",
       "Name: MySeries, dtype: int64"
      ]
     },
     "execution_count": 12,
     "metadata": {},
     "output_type": "execute_result"
    }
   ],
   "source": [
    "'''\n",
    "In Pandas, a DataFrame is a two-dimensional labeled data structure, where each column can \n",
    "have a different data type. It is similar to a spreadsheet or a SQL table, where the rows \n",
    "represent observations or samples, and the columns represent variables or features. A \n",
    "DataFrame can be thought of as a collection of Pandas Series, where each column is a Series.\n",
    "\n",
    "A Pandas Series, on the other hand, is a one-dimensional labeled array that can hold data \n",
    "of any type. It is similar to a single column of a DataFrame or a Python list, but with \n",
    "additional functionality and attributes.\n",
    "\n",
    "Here's an example to illustrate the difference between a Pandas DataFrame and a Pandas \n",
    "Series:\n",
    "'''    \n",
    "import pandas as pd\n",
    "\n",
    "#Pandas Series\n",
    "s = pd.Series([10, 20, 30, 40, 50], name='MySeries')\n",
    "\n",
    "#Pandas DataFrame\n",
    "data = {'Name': ['Alice', 'Bob', 'Claire'],\n",
    "        'Age': [25, 30, 27],\n",
    "        'Gender': ['Female', 'Male', 'Female']}\n",
    "df = pd.DataFrame(data)\n",
    "\n",
    "s"
   ]
  },
  {
   "cell_type": "code",
   "execution_count": 13,
   "id": "e3d02b17",
   "metadata": {},
   "outputs": [
    {
     "data": {
      "text/html": [
       "<div>\n",
       "<style scoped>\n",
       "    .dataframe tbody tr th:only-of-type {\n",
       "        vertical-align: middle;\n",
       "    }\n",
       "\n",
       "    .dataframe tbody tr th {\n",
       "        vertical-align: top;\n",
       "    }\n",
       "\n",
       "    .dataframe thead th {\n",
       "        text-align: right;\n",
       "    }\n",
       "</style>\n",
       "<table border=\"1\" class=\"dataframe\">\n",
       "  <thead>\n",
       "    <tr style=\"text-align: right;\">\n",
       "      <th></th>\n",
       "      <th>Name</th>\n",
       "      <th>Age</th>\n",
       "      <th>Gender</th>\n",
       "    </tr>\n",
       "  </thead>\n",
       "  <tbody>\n",
       "    <tr>\n",
       "      <th>0</th>\n",
       "      <td>Alice</td>\n",
       "      <td>25</td>\n",
       "      <td>Female</td>\n",
       "    </tr>\n",
       "    <tr>\n",
       "      <th>1</th>\n",
       "      <td>Bob</td>\n",
       "      <td>30</td>\n",
       "      <td>Male</td>\n",
       "    </tr>\n",
       "    <tr>\n",
       "      <th>2</th>\n",
       "      <td>Claire</td>\n",
       "      <td>27</td>\n",
       "      <td>Female</td>\n",
       "    </tr>\n",
       "  </tbody>\n",
       "</table>\n",
       "</div>"
      ],
      "text/plain": [
       "     Name  Age  Gender\n",
       "0   Alice   25  Female\n",
       "1     Bob   30    Male\n",
       "2  Claire   27  Female"
      ]
     },
     "execution_count": 13,
     "metadata": {},
     "output_type": "execute_result"
    }
   ],
   "source": [
    "df"
   ]
  },
  {
   "cell_type": "markdown",
   "id": "7ea19265",
   "metadata": {},
   "source": [
    "Q5. What are some common functions you can use to manipulate data in a Pandas DataFrame? Can\n",
    "you give an example of when you might use one of these functions?"
   ]
  },
  {
   "cell_type": "code",
   "execution_count": null,
   "id": "37998556",
   "metadata": {},
   "outputs": [],
   "source": [
    "Here are some common functions and methods that are frequently used:\n",
    "\n",
    "head() and tail(): Returns the first or last n rows of a DataFrame, respectively. These \n",
    "                   functions are often used to quickly inspect the structure of a DataFrame \n",
    "                   or to get a glimpse of the data.\n",
    "            \n",
    "describe(): Provides descriptive statistics for all numerical columns in a DataFrame, such \n",
    "            as count, mean, standard deviation, minimum, and maximum. This function is \n",
    "            useful for getting a general idea of the data distribution and identifying \n",
    "            potential outliers.\n",
    "            \n",
    "sort_values(): Sorts a DataFrame by one or more columns in ascending or descending order. \n",
    "               This function is useful for ranking, ordering, or finding the top/bottom \n",
    "               values in a DataFrame.\n",
    "            \n",
    "groupby(): Groups a DataFrame by one or more columns and applies a function (such as sum(), \n",
    "           mean(), count(), etc.) to each group. This function is useful for aggregating \n",
    "           data by categories or levels.\n",
    "        \n",
    "pivot_table(): Creates a pivot table based on a DataFrame, which allows you to summarize \n",
    "               and cross-tabulate data by one or more columns. This function is useful for \n",
    "               visualizing complex relationships or trends in a dataset.\n",
    "            \n",
    "apply(): Applies a function to each element or column of a DataFrame, and returns a new \n",
    "         DataFrame. This function is useful for transforming or manipulating data based on \n",
    "         custom logic\n",
    "            \n",
    "fillna(): Fills missing values (NaN) in a DataFrame with a specified value or method (such \n",
    "          as ffill or bfill). This function is useful for handling missing data in a dataset.\n",
    "\n",
    "merge(): Combines two or more DataFrames based on a common column or index. This function is\n",
    "         useful for joining data from multiple sources or tables.\n",
    "\n",
    "plot(): Creates a visualization of data in a DataFrame using various types of charts, such \n",
    "        as line, bar, scatter, and histogram. This function is useful for exploring patterns\n",
    "        or relationships in a dataset.\n",
    "        \n",
    "Here's an example of these functions:\n",
    "\n",
    "Suppose you have a DataFrame containing sales data for a retail store with columns 'Date',\n",
    "'Product', 'Quantity', and 'Price'. You want to calculate the total sales revenue for each \n",
    "product by month, and visualize the results using a bar chart. Here's how you can use the \n",
    "groupby() and plot() functions to achieve this:"
   ]
  },
  {
   "cell_type": "code",
   "execution_count": null,
   "id": "e0e60c3a",
   "metadata": {},
   "outputs": [],
   "source": [
    "import pandas as pd\n",
    "\n",
    "data = {'Name': ['Alice', 'Bob', 'Charlie', 'David', 'Emily', 'Frank', 'Gina', 'Hannah', 'Ivan'],\n",
    "        'Age': [21, 25, 30, 35, 40, 45, 50, 55, 60],\n",
    "        'Gender': ['F', 'M', 'M', 'M', 'F', 'M', 'F', 'F', 'M'],\n",
    "        'Salary': [45000, 55000, 70000, 85000, 100000, 120000, 140000, 160000, 180000]}\n",
    "\n",
    "df = pd.DataFrame(data)\n",
    "head = df.head()\n",
    "tail = df.tail()\n",
    "describe = df.describe()\n",
    "sort_values = df.sort_values('Salary')\n",
    "group_by = df.groupby('Gender')\n",
    "g_by_mean = group_by.mean()\n",
    "pivot = df.pivot_table(values='Salary', index='Gender', columns='Age', aggfunc='mean')"
   ]
  },
  {
   "cell_type": "markdown",
   "id": "1c812612",
   "metadata": {},
   "source": [
    "Q6. Which of the following is mutable in nature Series, DataFrame, Panel?"
   ]
  },
  {
   "cell_type": "code",
   "execution_count": null,
   "id": "fb616cfb",
   "metadata": {},
   "outputs": [],
   "source": [
    "'''\n",
    "Both Series and DataFrame are mutable in nature, meaning you can modify their values, add \n",
    "new rows or columns, and delete existing rows or columns.\n",
    "\n",
    "On the other hand, Panel is not mutable, and it is recommended to use MultiIndex or xarray \n",
    "instead of Panel for three-dimensional data.\n",
    "'''"
   ]
  },
  {
   "cell_type": "markdown",
   "id": "27849baa",
   "metadata": {},
   "source": [
    "Q7. Create a DataFrame using multiple Series. Explain with an example."
   ]
  },
  {
   "cell_type": "code",
   "execution_count": 2,
   "id": "ba08d2f0",
   "metadata": {},
   "outputs": [
    {
     "data": {
      "text/html": [
       "<div>\n",
       "<style scoped>\n",
       "    .dataframe tbody tr th:only-of-type {\n",
       "        vertical-align: middle;\n",
       "    }\n",
       "\n",
       "    .dataframe tbody tr th {\n",
       "        vertical-align: top;\n",
       "    }\n",
       "\n",
       "    .dataframe thead th {\n",
       "        text-align: right;\n",
       "    }\n",
       "</style>\n",
       "<table border=\"1\" class=\"dataframe\">\n",
       "  <thead>\n",
       "    <tr style=\"text-align: right;\">\n",
       "      <th></th>\n",
       "      <th>Fruits</th>\n",
       "      <th>Quantity</th>\n",
       "    </tr>\n",
       "  </thead>\n",
       "  <tbody>\n",
       "    <tr>\n",
       "      <th>0</th>\n",
       "      <td>Apple</td>\n",
       "      <td>20</td>\n",
       "    </tr>\n",
       "    <tr>\n",
       "      <th>1</th>\n",
       "      <td>Banana</td>\n",
       "      <td>24</td>\n",
       "    </tr>\n",
       "    <tr>\n",
       "      <th>2</th>\n",
       "      <td>Cherry</td>\n",
       "      <td>100</td>\n",
       "    </tr>\n",
       "    <tr>\n",
       "      <th>3</th>\n",
       "      <td>Orange</td>\n",
       "      <td>36</td>\n",
       "    </tr>\n",
       "  </tbody>\n",
       "</table>\n",
       "</div>"
      ],
      "text/plain": [
       "   Fruits  Quantity\n",
       "0   Apple        20\n",
       "1  Banana        24\n",
       "2  Cherry       100\n",
       "3  Orange        36"
      ]
     },
     "execution_count": 2,
     "metadata": {},
     "output_type": "execute_result"
    }
   ],
   "source": [
    "fruits = pd.Series(['Apple', 'Banana', 'Cherry', 'Orange'])\n",
    "quantaties = pd.Series([20, 24, 100, 36])\n",
    "\n",
    "df = pd.DataFrame({\"Fruits\" :fruits, \"Quantity\":quantaties})\n",
    "df"
   ]
  },
  {
   "cell_type": "code",
   "execution_count": null,
   "id": "3ac69068",
   "metadata": {},
   "outputs": [],
   "source": []
  }
 ],
 "metadata": {
  "kernelspec": {
   "display_name": "Python 3 (ipykernel)",
   "language": "python",
   "name": "python3"
  },
  "language_info": {
   "codemirror_mode": {
    "name": "ipython",
    "version": 3
   },
   "file_extension": ".py",
   "mimetype": "text/x-python",
   "name": "python",
   "nbconvert_exporter": "python",
   "pygments_lexer": "ipython3",
   "version": "3.10.6"
  }
 },
 "nbformat": 4,
 "nbformat_minor": 5
}
