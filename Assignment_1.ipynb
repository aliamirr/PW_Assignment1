{
 "cells": [
  {
   "cell_type": "raw",
   "id": "82856df9",
   "metadata": {},
   "source": [
    "Q. 1: Who developed Python Programming Language?\n",
    "Ans: Guido van Rossum developed Python Programming Language."
   ]
  },
  {
   "cell_type": "raw",
   "id": "a34ec249",
   "metadata": {},
   "source": [
    "Q. 2: Which type of programming does Python Support?\n",
    "Ans: Python supports object-oriented programming, structured programming and functional programming."
   ]
  },
  {
   "cell_type": "raw",
   "id": "b467a76e",
   "metadata": {},
   "source": [
    "Q. 3: Is Python case sensitive when dealing with identifiers?\n",
    "Ans: Yes.    "
   ]
  },
  {
   "cell_type": "raw",
   "id": "0e943ba7",
   "metadata": {},
   "source": [
    "Q. 4: What is the correct extension of the Python file?\n",
    "Ans: \".py\" is the correct extension of the Python file."
   ]
  },
  {
   "cell_type": "raw",
   "id": "446caad0",
   "metadata": {},
   "source": [
    "Q. 4: Is the Python code compilled or interpreted?\n",
    "Ans: Python code is both compiled and interpreted."
   ]
  },
  {
   "cell_type": "raw",
   "id": "0fdb2b52",
   "metadata": {},
   "source": [
    "Q. 5: Name a few blocks of code used to define in Python language?\n",
    "Ans : Conditions like if,elif and else, Loops like for loop and while loop, \n",
    "      A module, A function body, and A class are all blocks of code used in Python Language."
   ]
  },
  {
   "cell_type": "raw",
   "id": "eb9cafcf",
   "metadata": {},
   "source": [
    "Q. 6: State a character used to give single-line comments in Python?\n",
    "Ans : \"#\" is used to give single-line comments in Python."
   ]
  },
  {
   "cell_type": "raw",
   "id": "b9f25a63",
   "metadata": {},
   "source": [
    "Q. 8: Mention functions which can help us to find the version of Python that we are currently working on?\n",
    "Ans : \"sys.version\", We have to type python in terminal and then type \"sys.version\"."
   ]
  },
  {
   "cell_type": "raw",
   "id": "64bca798",
   "metadata": {},
   "source": [
    "Q. 9: Python supports the creation of anonymous functions at runtime, using a construct called_______?\n",
    "Ans : Lambda."
   ]
  },
  {
   "cell_type": "raw",
   "id": "86bbe068",
   "metadata": {},
   "source": [
    "Q. 10: What does pip stand for Python ?\n",
    "Ans : pip stands for \"Preferred Installer Program\"."
   ]
  },
  {
   "cell_type": "raw",
   "id": "492bf907",
   "metadata": {},
   "source": [
    "Q. 11: Mention a few built-in functions in python ?\n",
    "Ans : print(), type(), input(), len() function etc."
   ]
  },
  {
   "cell_type": "raw",
   "id": "7e823a37",
   "metadata": {},
   "source": [
    "Q. 12: What is the maximum possible length of an identifier in Python?\n",
    "Ans : \"Python identifiers are unlimited in length\" but as per PEP-8 you should limit identifier to a maximum of 79       character for better readability but there is no restriction."
   ]
  },
  {
   "cell_type": "raw",
   "id": "3a058f02",
   "metadata": {},
   "source": [
    "Q. 13: What are the benifits of using python?\n",
    "Ans :  Easy to Read, Learn and Write, Python is an interpreted language which means that Python directly \n",
    "       executes the code line by line, It is Dynamically Typed, It has  Vast Libraries Support etc."
   ]
  },
  {
   "cell_type": "raw",
   "id": "f5ffc9bb",
   "metadata": {},
   "source": [
    "Q. 14: How is memory managed in python?\n",
    "Ans :  Python Memory Manager is responsible to manage memory allocation and deallocation to various processes that        are under execution in python.\n",
    "\n",
    "       Every python process has two types of memory allocated to it\n",
    "\n",
    "       1) Static Memory\n",
    "       2) Dynamic Memory\n",
    "       All the functions we declare in python code has each of these memory associated with them.\n",
    "\n",
    "       Static Memory Allocation:-\n",
    "\n",
    "       Whenever a new function or class is declared it is very common to have some variable declaration inside            them, these declarations are associated with the function itself and do not change in the runtime. \n",
    "       They occupy a fixed memory size. Hence these are stored in the stack area.\n",
    "\n",
    "       For every function call in python, there is a structure maintained in the memory of the process. \n",
    "       This structure is called a function block. Python memory manager maintains a stack of such function blocks. \n",
    "       When a function is called its function block is pushed onto this stack and on return, \n",
    "       the same block is popped from the stack.\n",
    "\n",
    "       Dynamic Memory Allocation:-\n",
    "\n",
    "       The second type of memory available in a program is called heap memory. The heap memory is separate from the        static stack memory, \n",
    "       as this memory can be dynamically requested(allocated) and released(deallocated) in runtime. \n",
    "       The memory size required for such variables cannot be determined beforehand, and hence it is called dynamic        memory.\n",
    "    \n",
    "       Python garbage collection\n",
    "       The Python garbage collector handles memory allocation and deallocation automatically in Python. \n",
    "       Python developers have designed it to eliminate the need for manual garbage collection. \n",
    "       Garbage collection in Python refers to the interpreter’s memory management process of freeing up unneeded          and undesired memory for our applications."
   ]
  },
  {
   "cell_type": "raw",
   "id": "af50155d",
   "metadata": {},
   "source": [
    "Q. 15: How to install python on Mac and set path variable.\n",
    "    \n",
    "Ans :  1) To install Python:\n",
    "        \n",
    "       Step 1: \n",
    "       Launch the Terminal app on your Mac. \n",
    "       To do this, go to your Mac's Launchpad and type Terminal in the search field. \n",
    "       Alternatively, you can use Spotlight search to find it.\n",
    "    \n",
    "       Step 2:\n",
    "       Enter the following command to check Python 2.7's version and hit return:\n",
    "       Python --version\n",
    "    \n",
    "       Step 3:\n",
    "       If Python is pre-installed, you'll get a response that will provide details about the version.\n",
    "       terminal printing message showing python version.\n",
    "    \n",
    "       If your Mac has multiple versions of Python, you can enter a command specifying the Python version. To check        Python 2.7's version, you can use the python --version command. And for Python 3, you can use the following        command:\n",
    "         python3 --version\n",
    "            \n",
    "            \n",
    "       2) To set path variable:\n",
    "        \n",
    "        to add Python to the Path variable, follow through the given steps.\n",
    "\n",
    "        Step 1:\n",
    "\n",
    "        Open the Terminal on your MAC and give the following command: \n",
    "\n",
    "        sudo nano /etc/paths\n",
    "        The terminal will prompt you to enter your password. \n",
    "\n",
    "        Step 2:\n",
    "\n",
    "        Enter your password. This will open up a list of directories that are stored in the Path variable. \n",
    "\n",
    "        Step 3:\n",
    "\n",
    "        Now, after the last directory location, enter the path to the Python Install directory. \n",
    "\n",
    "        Step 4:\n",
    "\n",
    "        Press Ctrl + X to quit and further, press Y to save the changes to the Path variable. \n",
    "        This will now allow you to access python directly from the terminal without being required to enter its             full location. \n",
    "\n"
   ]
  },
  {
   "cell_type": "raw",
   "id": "4f31094d",
   "metadata": {},
   "source": [
    "Q. 16: Is indentation required in python?\n",
    "Ans : Yes python requires indentation other wise it gives \"IndentationError\"."
   ]
  }
 ],
 "metadata": {
  "kernelspec": {
   "display_name": "Python 3",
   "language": "python",
   "name": "python3"
  },
  "language_info": {
   "codemirror_mode": {
    "name": "ipython",
    "version": 3
   },
   "file_extension": ".py",
   "mimetype": "text/x-python",
   "name": "python",
   "nbconvert_exporter": "python",
   "pygments_lexer": "ipython3",
   "version": "3.11.0"
  },
  "vscode": {
   "interpreter": {
    "hash": "aee8b7b246df8f9039afb4144a1f6fd8d2ca17a180786b69acc140d282b71a49"
   }
  }
 },
 "nbformat": 4,
 "nbformat_minor": 5
}
