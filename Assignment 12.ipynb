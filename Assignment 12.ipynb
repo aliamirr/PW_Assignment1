{
 "cells": [
  {
   "cell_type": "markdown",
   "id": "7482af3f",
   "metadata": {},
   "source": [
    "Q1. What is an Exception in python? Write the difference between Exceptions and Syntax errors."
   ]
  },
  {
   "cell_type": "markdown",
   "id": "6fe7f176",
   "metadata": {},
   "source": [
    "An exception is an error that occurs during the execution of a Python program, and it disrupts the normal flow of \n",
    "the program. Exceptions can occur due to various reasons such as input errors, coding mistakes, and system issues, \n",
    "etc. In Python, when an exception occurs, it creates an instance of an exception object, which contains information \n",
    "about the error, such as the type of exception, the line number where it occurred, and a traceback.\n",
    "\n",
    "Syntax errors, on the other hand, occur when the code violates the syntax rules of the Python language. \n",
    "For example, if a program tries to use a variable without defining it, or if it forgets to close a parenthesis, \n",
    "Python will generate a syntax error. Unlike exceptions, syntax errors are detected by the Python interpreter during \n",
    "the compilation phase, before the program is executed.\n",
    "\n",
    "The main difference between exceptions and syntax errors is that syntax errors occur during the compilation phase, \n",
    "while exceptions occur during the execution phase of a Python program. Another important difference is that syntax \n",
    "errors always indicate a problem with the code, whereas exceptions can be caused by a variety of factors, such as \n",
    "incorrect user input or external system issues. Furthermore, syntax errors prevent the program from running at all,\n",
    "while exceptions can be caught and handled by the program, allowing it to continue running with appropriate error \n",
    "messages."
   ]
  },
  {
   "cell_type": "code",
   "execution_count": null,
   "id": "8ce332f8",
   "metadata": {},
   "outputs": [],
   "source": []
  },
  {
   "cell_type": "markdown",
   "id": "a991a119",
   "metadata": {},
   "source": [
    "Q2. What happens when an exception is not handled? Explain with an example."
   ]
  },
  {
   "cell_type": "code",
   "execution_count": 2,
   "id": "78b72c48",
   "metadata": {},
   "outputs": [
    {
     "name": "stdout",
     "output_type": "stream",
     "text": [
      "Division by zero!\n"
     ]
    },
    {
     "data": {
      "text/plain": [
       "\"As we can see, if an exception is not handled, it can lead to unexpected and undesirable behavior, such as \\nterminating the program or causing the program to behave in unexpected ways. Therefore, it's important to handle\\nexceptions appropriately in our code to prevent these issues.\""
      ]
     },
     "execution_count": 2,
     "metadata": {},
     "output_type": "execute_result"
    }
   ],
   "source": [
    "'''When an exception is not handled, it will propagate up the call stack until it is caught by a higher-level exception\n",
    "handler, or until it reaches the top-level of the program and terminates the program.\n",
    "\n",
    "Here's an example to illustrate this concept:'''\n",
    "\n",
    "def divide(x, y):\n",
    "    try:\n",
    "        result = x / y\n",
    "    except ZeroDivisionError:\n",
    "        print(\"Division by zero!\")\n",
    "    else:\n",
    "        print(\"Result is\", result)\n",
    "\n",
    "def main():\n",
    "    divide(10, 0)\n",
    "\n",
    "if __name__ == '__main__':\n",
    "    main()\n",
    "\n",
    "'''In this example, the divide() function tries to divide x by y, but it also has a try-except block to handle the \n",
    "case when y is zero. If y is zero, it will catch the ZeroDivisionError exception and print a message saying \n",
    "\"Division by zero!\".\n",
    "\n",
    "However, in the main() function, we call divide(10, 0), which will cause a ZeroDivisionError exception to be raised \n",
    "in the divide() function. Since we do not have a try-except block in the main() function to catch this exception, \n",
    "it will propagate up the call stack until it reaches the top-level of the program, which will terminate the program \n",
    "and print the following error message:\n",
    "    '''\n",
    "'''Division by zero!'''\n",
    "\n",
    "\n",
    "'''As we can see, if an exception is not handled, it can lead to unexpected and undesirable behavior, such as \n",
    "terminating the program or causing the program to behave in unexpected ways. Therefore, it's important to handle\n",
    "exceptions appropriately in our code to prevent these issues.'''"
   ]
  },
  {
   "cell_type": "code",
   "execution_count": null,
   "id": "300b1bc5",
   "metadata": {},
   "outputs": [],
   "source": []
  },
  {
   "cell_type": "markdown",
   "id": "df8346eb",
   "metadata": {},
   "source": [
    "Q3. Which Python statements are used to catch and handle exceptions? Explain with an example."
   ]
  },
  {
   "cell_type": "code",
   "execution_count": null,
   "id": "c2b53442",
   "metadata": {},
   "outputs": [],
   "source": [
    "'''Python provides a mechanism to catch and handle exceptions using the try and except statements. The try statement \n",
    "is used to enclose a block of code that might raise an exception, while the except statement is used to catch and \n",
    "handle the exception.\n",
    "\n",
    "Here is an example of how to use try and except:'''\n",
    "    \n",
    "try:\n",
    "    x = int(input(\"Please enter a number: \"))\n",
    "    y = 10 / x\n",
    "    print(\"The result is:\", y)\n",
    "except ZeroDivisionError:\n",
    "    print(\"You cannot divide by zero.\")\n",
    "except ValueError:\n",
    "    print(\"You must enter a valid integer.\")\n",
    "except:\n",
    "    print(\"Something went wrong.\")\n",
    "\n",
    "'''In this example, the user is asked to enter a number. If the user enters a valid integer, the code will execute \n",
    "without any errors. However, if the user enters 0, a ZeroDivisionError exception will be raised when the code tries \n",
    "to divide by zero. If the user enters a non-integer value, a ValueError exception will be raised.'''"
   ]
  },
  {
   "cell_type": "markdown",
   "id": "24360382",
   "metadata": {},
   "source": [
    "Q4. Explain with an example:\n",
    "a. try and else\n",
    "b. finally\n",
    "c. raise\n",
    "\n"
   ]
  },
  {
   "cell_type": "code",
   "execution_count": null,
   "id": "72bae3d1",
   "metadata": {},
   "outputs": [],
   "source": [
    "'''a)try and else: The else block can be used with try and except to specify a block of code to be executed if no \n",
    "    exception is raised in the try block. Here is an example:'''\n",
    "        \n",
    "try:\n",
    "    x = int(input(\"Please enter a number: \"))\n",
    "except ValueError:\n",
    "    print(\"You must enter a valid integer.\")\n",
    "else:\n",
    "    y = x * 2\n",
    "    print(\"The result is:\", y)\n",
    "    \n",
    "'''In this example, the try block attempts to convert the user's input to an integer. If the user enters a non-integer \n",
    "value, a ValueError exception is raised and the except block is executed. If the user enters a valid integer, the\n",
    "else block is executed and the code multiplies the integer by 2 and prints the result.\n",
    "\n",
    "b)finally: The finally block can be used with try and except to specify a block of code that will always be \n",
    "    executed, regardless of whether an exception is raised. Here is an example:'''\n",
    "        \n",
    "try:\n",
    "    file = open(\"example.txt\", \"r\")\n",
    "    content = file.read()\n",
    "except FileNotFoundError:\n",
    "    print(\"The file does not exist.\")\n",
    "finally:\n",
    "    file.close()\n",
    "    \n",
    "'''In this example, the try block attempts to open a file named example.txt for reading. If the file does not exist, a \n",
    "FileNotFoundError exception is raised and the except block is executed. The finally block is used to ensure that the\n",
    "file is always closed, even if an exception is raised.\n",
    "\n",
    "c) raise: The raise statement can be used to raise an exception manually. This is useful when you want to create a \n",
    "   custom exception or when you want to re-raise an exception that you caught. Here is an example:'''\n",
    "\n",
    "def divide(x, y):\n",
    "    if y == 0:\n",
    "        raise ValueError(\"You cannot divide by zero.\")\n",
    "    else:\n",
    "        return x / y\n",
    "\n",
    "try:\n",
    "    result = divide(10, 0)\n",
    "except ValueError as e:\n",
    "    print(e)\n",
    "\n",
    "'''In this example, the divide function checks if the denominator is zero and raises a ValueError exception if it is. \n",
    "In the try block, the divide function is called with arguments 10 and 0, which will cause a ValueError exception to \n",
    "be raised. The except block catches the exception and prints the error message that was passed to the ValueError \n",
    "exception.'''"
   ]
  },
  {
   "cell_type": "code",
   "execution_count": null,
   "id": "32a1138e",
   "metadata": {},
   "outputs": [],
   "source": []
  },
  {
   "cell_type": "markdown",
   "id": "5ab8205b",
   "metadata": {},
   "source": [
    "Q5. What are Custom Exceptions in python? Why do we need Custom Exceptions? Explain with an example."
   ]
  },
  {
   "cell_type": "code",
   "execution_count": null,
   "id": "59b08a66",
   "metadata": {},
   "outputs": [],
   "source": [
    "'''We need custom exceptions to provide more meaningful and specific error messages to the users of our application. \n",
    "By creating custom exceptions, we can raise errors that are specific to our application and that provide detailed \n",
    "information about the error that occurred. This can help users troubleshoot problems more easily and can make our \n",
    "code more robust and maintainable.\n",
    "\n",
    "Here is an example of how to create a custom exception:'''\n",
    "    \n",
    "class AgeError(Exception):\n",
    "    def __init__(self, message):\n",
    "        self.message = message\n",
    "        super().__init__(self.message)\n",
    "\n",
    "def validate_age(age):\n",
    "    if age < 18:\n",
    "        raise AgeError(\"You must be at least 18 years old to access this content.\")\n",
    "    else:\n",
    "        print(\"Welcome to the website.\")\n",
    "\n",
    "try:\n",
    "    age = int(input(\"Please enter your age: \"))\n",
    "    validate_age(age)\n",
    "except AgeError as e:\n",
    "    print(e)\n",
    "\n",
    "'''In this example, we define a custom exception called AgeError by subclassing the built-in Exception class. The \n",
    "AgeError exception takes a message as an argument, which is used to provide a specific error message when the \n",
    "exception is raised.\n",
    "\n",
    "The validate_age function checks if the user's age is less than 18 and raises an AgeError exception if it is. The \n",
    "try block calls the validate_age function with the user's input, and the except block catches any AgeError \n",
    "exceptions that are raised and prints the error message.'''"
   ]
  },
  {
   "cell_type": "code",
   "execution_count": null,
   "id": "dd551a79",
   "metadata": {},
   "outputs": [],
   "source": []
  },
  {
   "cell_type": "markdown",
   "id": "ddc81322",
   "metadata": {},
   "source": [
    "Q6. Create a custom exception class. Use this class to handle an exception."
   ]
  },
  {
   "cell_type": "code",
   "execution_count": null,
   "id": "0d40ed5f",
   "metadata": {},
   "outputs": [],
   "source": [
    "'''Here is an example of creating a custom exception class and using it to handle an exception:'''\n",
    "    \n",
    "class CustomException(Exception):\n",
    "    def __init__(self, message):\n",
    "        super().__init__(message)\n",
    "\n",
    "def divide(x, y):\n",
    "    if y == 0:\n",
    "        raise CustomException(\"You cannot divide by zero.\")\n",
    "    else:\n",
    "        return x / y\n",
    "\n",
    "try:\n",
    "    result = divide(10, 0)\n",
    "except CustomException as e:\n",
    "    print(e)\n",
    "\n",
    "\n",
    "'''In this example, we define a custom exception class called CustomException by subclassing the built-in Exception \n",
    "class. The CustomException exception takes a message as an argument, which is used to provide a specific error \n",
    "message when the exception is raised.\n",
    "\n",
    "The divide function checks if the denominator is zero and raises a CustomException exception if it is. In the try \n",
    "block, the divide function is called with arguments 10 and 0, which will cause a CustomException exception to be \n",
    "raised. The except block catches the exception and prints the error message that was passed to the CustomException \n",
    "exception.'''"
   ]
  }
 ],
 "metadata": {
  "kernelspec": {
   "display_name": "Python 3 (ipykernel)",
   "language": "python",
   "name": "python3"
  },
  "language_info": {
   "codemirror_mode": {
    "name": "ipython",
    "version": 3
   },
   "file_extension": ".py",
   "mimetype": "text/x-python",
   "name": "python",
   "nbconvert_exporter": "python",
   "pygments_lexer": "ipython3",
   "version": "3.10.6"
  }
 },
 "nbformat": 4,
 "nbformat_minor": 5
}
