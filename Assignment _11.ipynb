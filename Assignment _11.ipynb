{
 "cells": [
  {
   "cell_type": "markdown",
   "id": "7bb00beb",
   "metadata": {},
   "source": [
    "Q1. Which function is used to open a file? What are the different modes of opening a file? Explain each mode\n",
    "of file opening."
   ]
  },
  {
   "cell_type": "code",
   "execution_count": null,
   "id": "5184ea62",
   "metadata": {},
   "outputs": [],
   "source": [
    "'''In Python, the open() function is used to open a file.\n",
    "\n",
    "The syntax of the open() function is:'''\n",
    "    \n",
    "file = open(filename, mode)\n",
    "\n",
    "\n",
    "'''\n",
    "where filename is the name of the file that you want to open and mode specifies the purpose of opening the file.\n",
    "\n",
    "There are several modes available for opening a file in Python, which are described below:\n",
    "\n",
    "r: This mode is used for reading files. If the file does not exist, an error will be raised.\n",
    "    \n",
    "w: This mode is used for writing files. If the file exists, its contents will be overwritten. \n",
    "   If the file does not exist, a new file will be created.\n",
    "\n",
    "a: This mode is used for appending files. If the file exists, new data will be appended to the end of the file. \n",
    "   If the file does not exist, a new file will be created.\n",
    "\n",
    "x: This mode is used for creating files. If the file exists, an error will be raised. \n",
    "   If the file does not exist, a new file will be created.\n",
    "\n",
    "t: This mode is used for opening files in text mode, which is the default mode. \n",
    "   In text mode, the file is treated as a sequence of Unicode characters.\n",
    "\n",
    "b: This mode is used for opening files in binary mode. In binary mode, the file is treated as a sequence of bytes.\n",
    "    \n",
    "+: This mode is used for opening files in both read and write mode.'''"
   ]
  },
  {
   "cell_type": "markdown",
   "id": "1d239009",
   "metadata": {},
   "source": [
    "Q2. Why close() function is used? Why is it important to close a file?"
   ]
  },
  {
   "cell_type": "code",
   "execution_count": null,
   "id": "74deda25",
   "metadata": {},
   "outputs": [],
   "source": [
    "'''In Python, the close() function is used to close an open file object. It's important to close a file because it \n",
    "releases the resources that were allocated to the file when it was opened.\n",
    "\n",
    "When you open a file, the operating system creates an entry in the file table and allocates some resources to the \n",
    "file, such as a file descriptor. If you don't close the file, these resources will remain allocated to the file \n",
    "even after your program finishes executing. This can lead to resource leaks, which can cause your program to \n",
    "consume more memory and/or other resources than necessary.\n",
    "\n",
    "Closing a file also ensures that all the data you wrote to the file is properly flushed to disk. If you don't \n",
    "close the file, some data may still be in the file buffer and not yet written to the file. This means that the \n",
    "data may be lost if your program terminates unexpectedly or if the computer crashes.'''"
   ]
  },
  {
   "cell_type": "markdown",
   "id": "66e096d1",
   "metadata": {},
   "source": [
    "Q3. Write a python program to create a text file. Write ‘I want to become a Data Scientist’ in that file. Then\n",
    "close the file. Open this file and read the content of the file."
   ]
  },
  {
   "cell_type": "code",
   "execution_count": 25,
   "id": "8b901ca4",
   "metadata": {},
   "outputs": [],
   "source": [
    "file = open(\"new.txt\", \"w\" )\n",
    "file.write(\"I want to become a Data Scientist\")\n",
    "file.close()"
   ]
  },
  {
   "cell_type": "code",
   "execution_count": 26,
   "id": "3a5ee54d",
   "metadata": {},
   "outputs": [
    {
     "data": {
      "text/plain": [
       "'I want to become a Data Scientist'"
      ]
     },
     "execution_count": 26,
     "metadata": {},
     "output_type": "execute_result"
    }
   ],
   "source": [
    "data = open(\"new.txt\",\"r\")\n",
    "data.read()"
   ]
  },
  {
   "cell_type": "code",
   "execution_count": null,
   "id": "45f4f24c",
   "metadata": {},
   "outputs": [],
   "source": []
  },
  {
   "cell_type": "markdown",
   "id": "78a4e622",
   "metadata": {},
   "source": [
    "Q4. Explain the following with python code: read(), readline() and readlines()."
   ]
  },
  {
   "cell_type": "code",
   "execution_count": 86,
   "id": "3650065d",
   "metadata": {},
   "outputs": [],
   "source": [
    "file_1 = open(\"new_1.txt\", \"w\")\n",
    "file_1.write(\"Data Science Masters course is highly curated and uniquely designed according to the latest industry standards. This program instills students the skills essential to knowledge discovery efforts to identify standard, novel, and truly differentiated solutions and decision-making, including skills in managing, querying, analyzing, visualizing, and extracting meaning from extremely large data sets.\")\n",
    "file_1.close()"
   ]
  },
  {
   "cell_type": "code",
   "execution_count": 101,
   "id": "28a0f6ab",
   "metadata": {},
   "outputs": [],
   "source": [
    "'''read(): This function is used to read a specified number of characters (or bytes) from the file. \n",
    "If no argument is passed, it reads the entire file.'''\n",
    "\n",
    "\n",
    "data = open(\"new_1.txt\", \"r\")"
   ]
  },
  {
   "cell_type": "code",
   "execution_count": 102,
   "id": "cf543777",
   "metadata": {},
   "outputs": [
    {
     "data": {
      "text/plain": [
       "'Data Science Masters course is highly curated and uniquely designed according to the latest industry standards. This program instills students the skills essential to knowledge discovery efforts to identify standard, novel, and truly differentiated solutions and decision-making, including skills in managing, querying, analyzing, visualizing, and extracting meaning from extremely large data sets.'"
      ]
     },
     "execution_count": 102,
     "metadata": {},
     "output_type": "execute_result"
    }
   ],
   "source": [
    "data.read()"
   ]
  },
  {
   "cell_type": "code",
   "execution_count": 103,
   "id": "7d4d4c5e",
   "metadata": {},
   "outputs": [],
   "source": [
    "'''readline(): This function is used to read a single line from the file. It reads characters from the current \n",
    "position until it encounters a newline character.'''\n",
    "\n",
    "\n",
    "file = open(\"new_1.txt\", \"r\")"
   ]
  },
  {
   "cell_type": "code",
   "execution_count": 104,
   "id": "04461af5",
   "metadata": {},
   "outputs": [
    {
     "data": {
      "text/plain": [
       "''"
      ]
     },
     "execution_count": 104,
     "metadata": {},
     "output_type": "execute_result"
    }
   ],
   "source": [
    "data.readline()"
   ]
  },
  {
   "cell_type": "code",
   "execution_count": 105,
   "id": "20598b2b",
   "metadata": {},
   "outputs": [
    {
     "data": {
      "text/plain": [
       "['Data Science Masters course is highly curated and uniquely designed according to the latest industry standards. This program instills students the skills essential to knowledge discovery efforts to identify standard, novel, and truly differentiated solutions and decision-making, including skills in managing, querying, analyzing, visualizing, and extracting meaning from extremely large data sets.']"
      ]
     },
     "execution_count": 105,
     "metadata": {},
     "output_type": "execute_result"
    }
   ],
   "source": [
    "'''readlines(): This function is used to read all the lines from the file and return them as a list.'''\n",
    "\n",
    "data = open(\"new_1.txt\", \"r\")\n",
    "data.readlines()"
   ]
  },
  {
   "cell_type": "markdown",
   "id": "e4b0789f",
   "metadata": {},
   "source": [
    "Q5. Explain why with statement is used with open(). What is the advantage of using with statement and\n",
    "open() together?"
   ]
  },
  {
   "cell_type": "code",
   "execution_count": null,
   "id": "c1601094",
   "metadata": {},
   "outputs": [],
   "source": [
    "'''\n",
    "In Python, the with statement is used in combination with the open() function to open a file in a context, \n",
    "which automatically closes the file after the code block inside the context has been executed.\n",
    "\n",
    "The with statement provides a number of advantages over manually opening and closing a file. \n",
    "Some of these advantages are:\n",
    "\n",
    "1). Automatic closing of the file: The with statement ensures that the file is automatically closed after the \n",
    "    code block inside the context has been executed, even if an exception is raised. This eliminates the need \n",
    "    to explicitly call the close() function and ensures that the file is not left open by mistake.\n",
    "    \n",
    "2). Cleaner and more concise code: The with statement allows you to write cleaner and more concise code by \n",
    "    removing the need for try-catch-finally blocks and explicit calls to close().\n",
    "    \n",
    "3). Improved performance: The with statement can help improve performance by reducing the number of system calls \n",
    "    needed to open and close a file.\n",
    "    \n",
    "Here is an example of how to use the with statement with the open() function to read data from a file:'''"
   ]
  },
  {
   "cell_type": "code",
   "execution_count": null,
   "id": "463c817c",
   "metadata": {},
   "outputs": [],
   "source": [
    "with open(\"example.txt\", \"r\") as file:\n",
    "    \n",
    "    data = file.readlines()\n",
    "    for line in data:\n",
    "        print(line)"
   ]
  },
  {
   "cell_type": "markdown",
   "id": "462fed99",
   "metadata": {},
   "source": [
    "Q6. Explain the write() and writelines() functions. Give a suitable example."
   ]
  },
  {
   "cell_type": "code",
   "execution_count": null,
   "id": "ff09e25d",
   "metadata": {},
   "outputs": [],
   "source": [
    "'''\n",
    "write(): This function is used to write a string of characters to the file. It returns the number of \n",
    "         characters written.'''\n",
    "\n",
    "\n",
    "file = open(\"text_2.txt\", \"w\")\n",
    "\n",
    "\n",
    "file.write(\"I want to become a Data Scientist\")\n",
    "\n",
    "file.close()"
   ]
  },
  {
   "cell_type": "code",
   "execution_count": null,
   "id": "5f4c20fd",
   "metadata": {},
   "outputs": [],
   "source": [
    "'''\n",
    "writelines(): This function is used to write a list of strings to the file. Each string in the list is written \n",
    "              as a separate line in the file.'''\n",
    "\n",
    "file = open(\"text_2.txt\", \"w\")\n",
    "\n",
    "lines = [\"This is line 1st\\n\", \"This is line 2nd\\n\", \"This is line 3rd\\n\"]\n",
    "file.writelines(lines)\n",
    "\n",
    "file.close()"
   ]
  }
 ],
 "metadata": {
  "kernelspec": {
   "display_name": "Python 3 (ipykernel)",
   "language": "python",
   "name": "python3"
  },
  "language_info": {
   "codemirror_mode": {
    "name": "ipython",
    "version": 3
   },
   "file_extension": ".py",
   "mimetype": "text/x-python",
   "name": "python",
   "nbconvert_exporter": "python",
   "pygments_lexer": "ipython3",
   "version": "3.10.6"
  }
 },
 "nbformat": 4,
 "nbformat_minor": 5
}
